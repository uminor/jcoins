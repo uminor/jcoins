{
  "nbformat": 4,
  "nbformat_minor": 0,
  "metadata": {
    "colab": {
      "name": "jcoins_counter.ipynb",
      "version": "0.3.2",
      "provenance": [],
      "collapsed_sections": [],
      "include_colab_link": true
    },
    "kernelspec": {
      "name": "python3",
      "display_name": "Python 3"
    },
    "accelerator": "GPU"
  },
  "cells": [
    {
      "cell_type": "markdown",
      "metadata": {
        "id": "view-in-github",
        "colab_type": "text"
      },
      "source": [
        "<a href=\"https://colab.research.google.com/github/uminor/jcoins/blob/master/jcoins_counter.ipynb\" target=\"_parent\"><img src=\"https://colab.research.google.com/assets/colab-badge.svg\" alt=\"Open In Colab\"/></a>"
      ]
    },
    {
      "metadata": {
        "id": "I6ZgjHV1DgbY",
        "colab_type": "code",
        "colab": {}
      },
      "cell_type": "code",
      "source": [
        "# tensorflow のラッパーとなるライブラリ keras をインストール\n",
        "!pip install -q keras"
      ],
      "execution_count": 0,
      "outputs": []
    },
    {
      "metadata": {
        "id": "HmaOWC_9-8gi",
        "colab_type": "code",
        "outputId": "2c52a98b-ecfa-44a7-ecf6-d78dbbfaa376",
        "colab": {
          "base_uri": "https://localhost:8080/",
          "height": 52
        }
      },
      "cell_type": "code",
      "source": [
        "# いろいろインポート\n",
        "import numpy as np\n",
        "from numpy.random import *\n",
        "import cv2\n",
        "import sys\n",
        "import os\n",
        "import time\n",
        "\n",
        "import tensorflow as tf\n",
        "import keras\n",
        "from keras.layers.convolutional import Conv2D\n",
        "from keras.layers.pooling import MaxPool2D\n",
        "from keras.layers.core import Flatten, Dropout\n",
        "from keras.optimizers import SGD\n",
        "\n",
        "# colab メニューの「ランタイム」→「ランタイムのタイプを変更」　にて\n",
        "# 「ランタイムのタイプ」＝\"puthon3\"\n",
        "# 「ハードウェアアクセラレ」ータ＝\"GPU\"とした（今回は）。それの確認。\n",
        "print(tf.test.gpu_device_name())"
      ],
      "execution_count": 2,
      "outputs": [
        {
          "output_type": "stream",
          "text": [
            "Using TensorFlow backend.\n"
          ],
          "name": "stderr"
        },
        {
          "output_type": "stream",
          "text": [
            "/device:GPU:0\n"
          ],
          "name": "stdout"
        }
      ]
    },
    {
      "metadata": {
        "id": "fcCwwVvprLg3",
        "colab_type": "code",
        "colab": {
          "base_uri": "https://localhost:8080/",
          "height": 125
        },
        "outputId": "96fe1768-8d5d-4be2-b931-a8036e399b04"
      },
      "cell_type": "code",
      "source": [
        "# Google Drive をマウントする。\n",
        "# Google Drive に、あらかじめ\"Colab Work\" という作業ディレクトリをつくっておく。\n",
        "from google.colab import drive\n",
        "drive.mount('/content/drive')"
      ],
      "execution_count": 3,
      "outputs": [
        {
          "output_type": "stream",
          "text": [
            "Go to this URL in a browser: https://accounts.google.com/o/oauth2/auth?client_id=947318989803-6bn6qk8qdgf4n4g3pfee6491hc0brc4i.apps.googleusercontent.com&redirect_uri=urn%3Aietf%3Awg%3Aoauth%3A2.0%3Aoob&scope=email%20https%3A%2F%2Fwww.googleapis.com%2Fauth%2Fdocs.test%20https%3A%2F%2Fwww.googleapis.com%2Fauth%2Fdrive%20https%3A%2F%2Fwww.googleapis.com%2Fauth%2Fdrive.photos.readonly%20https%3A%2F%2Fwww.googleapis.com%2Fauth%2Fpeopleapi.readonly&response_type=code\n",
            "\n",
            "Enter your authorization code:\n",
            "··········\n",
            "Mounted at /content/drive\n"
          ],
          "name": "stdout"
        }
      ]
    },
    {
      "metadata": {
        "id": "wqVRMFvpiwv5",
        "colab_type": "text"
      },
      "cell_type": "markdown",
      "source": [
        "≪ディレクトリ構成≫\n",
        "\n",
        "/content/drive/My Drive/Colab Notebooks/jcoins_counter.ipynb\n",
        " =>このノートブック。\n",
        "\n",
        "/content/drive/My Drive/Colab Work/\n",
        "\n",
        "jcoin_model_1yen.h5  =>1円玉を数える学習済モデル。\n",
        "\n",
        "jcoin_model_5yen.h5   =>５円玉を数える学習済モデル。\n",
        "\n",
        "jcoin_model_10yen.h5  =>1０円玉を数える学習済モデル。\n",
        "\n",
        "/content/drive/My Drive/Colab Work/jcoin_images/\n",
        "　=>日本円の6種類・表裏のコインの画像\n",
        "\n",
        "/content/drive/My Drive/Colab Work/jcoin_data/\n",
        "   =>コインをランダムにバラまいた状態をシミュレートした画像群。デフォルトは1000ファイル。"
      ]
    },
    {
      "metadata": {
        "id": "m9pIXgK-63iH",
        "colab_type": "code",
        "colab": {}
      },
      "cell_type": "code",
      "source": [
        "# マウントの確認。\n",
        "! ls -l \"/content/drive/My Drive/Colab Work/\""
      ],
      "execution_count": 0,
      "outputs": []
    },
    {
      "metadata": {
        "id": "Ovb6FQ77Dgbd",
        "colab_type": "text"
      },
      "cell_type": "markdown",
      "source": [
        "#  単独コインのクラス"
      ]
    },
    {
      "metadata": {
        "id": "Qu6CNPCODgbe",
        "colab_type": "code",
        "colab": {}
      },
      "cell_type": "code",
      "source": [
        "class Jcoin:\n",
        "    home_dir = \"/content/drive/My Drive/Colab Work\"\n",
        "    dir = home_dir + '/jcoin_images'\n",
        "    index = {}\n",
        "\n",
        "    # 元画像ファイルを指定し、コインオブジェクトを生成\n",
        "    def __init__(self, value, side, scale = 0.2):\n",
        "        self.value = value\n",
        "        self.side = side\n",
        "        self.file_name = \"{:0=3}yen_{}.png\".format(value, side)\n",
        "        tmp_img = cv2.imread(Jcoin.dir + '/' + self.file_name, 1)\n",
        "        tmp_height, tmp_width, channels = tmp_img.shape[:3]\n",
        "        self.img = cv2.resize(tmp_img, (int(tmp_height * scale), int(tmp_width * scale)))\n",
        "        self.height, self.width, channels = self.img.shape[:3]\n",
        "        self.radius = int(self.width / 2)\n",
        "        Jcoin.index[(value, side)] = self\n",
        "\n",
        "    def set_to_field(self, field, x_offset, y_offset, random_rotation=True):\n",
        "        field_height, field_width, channels = field.shape[:3]\n",
        "\n",
        "        if random_rotation:\n",
        "            out_img = self.rotate(self.img, 360.0 * np.random.rand())\n",
        "\n",
        "        cx, cy = self.width / 2, self.height / 2\n",
        "\n",
        "        for iy in range(self.height):\n",
        "            for ix in range(self.width):\n",
        "                if random_rotation:\n",
        "                    b, g, r = out_img[iy, ix]\n",
        "                else:\n",
        "                    b, g, r = self.img[iy, ix]\n",
        "                if np.linalg.norm(np.array([ix, iy]) - np.array([cx, cy])) < r:\n",
        "                    x, y = x_offset + ix - self.radius, y_offset + iy - self.radius\n",
        "                    if x < field_width and y < field_height:\n",
        "                        if  [255,0,0] == [b, g, r]:\n",
        "                            [b, g, r] = [0, 0, 0]\n",
        "                        field[y, x] = [b, g, r]\n",
        "\n",
        "    def rotate(self, in_img, degree):\n",
        "        center = tuple(np.array([self.width / 2.0,  self.height / 2.0])) ####\n",
        "        size = tuple(np.array([self.width, self.height]))  ####\n",
        "        rotation_matrix = cv2.getRotationMatrix2D(center, degree, 1.0)\n",
        "        return cv2.warpAffine(in_img, rotation_matrix, size, flags=cv2.INTER_CUBIC)\n",
        "      "
      ],
      "execution_count": 0,
      "outputs": []
    },
    {
      "metadata": {
        "id": "Fg6ZINwdDgbj",
        "colab_type": "text"
      },
      "cell_type": "markdown",
      "source": [
        "#  コイン集合のクラス"
      ]
    },
    {
      "metadata": {
        "id": "KtLhKmcQDgbk",
        "colab_type": "code",
        "outputId": "2b4139e1-2528-4255-971d-80c1c0e29cad",
        "colab": {
          "base_uri": "https://localhost:8080/",
          "height": 34
        }
      },
      "cell_type": "code",
      "source": [
        "class Jcoins:\n",
        "    values_org = [1, 5, 10, 50, 100, 500] # Yen coins\n",
        "    coin_len_org = len(values_org)\n",
        "    \n",
        "    values = values_org[0:3] # Yen coins limited\n",
        "    coin_len = len(values)\n",
        "    coin_range = range(coin_len)\n",
        "    colors = ['b', 'g', 'r', 'c', 'm', 'y']\n",
        "    sides = ['F', 'B'] # Front, Back\n",
        "    coins = {}\n",
        "\n",
        "    # 最初に jcoins=Jcoins() でインスタンスを生成したときに呼ばれる。\n",
        "    # 6価額(1円～500円)×両面＝12種類、のコインオブジェクトを生成し、辞書 coins に保有。\n",
        "    def __init__(self):\n",
        "        for val in Jcoins.values:\n",
        "            for side in Jcoins.sides:\n",
        "                Jcoins.coins[(val, side)] = Jcoin(val, side, 0.1)\n",
        "\n",
        "    # 1種類のコインを返す。\n",
        "    def index(self, idx):\n",
        "        return Jcoins.coins[idx]\n",
        "\n",
        "    # フィールド画像上で新しく投入しようとするコイン画像が、もともとあるコイン画像と重なるかどうか判定（True なら重ならない）\n",
        "    def check_overlap(self, pos, positions, field_img):\n",
        "        x, y, r = pos\n",
        "        field_height, field_width, channels = field_img.shape[:3]\n",
        "\n",
        "        if x - r < 0 or field_width < x + r or y - r < 0 or field_height < y + r :\n",
        "            return False\n",
        "\n",
        "        for p in positions:\n",
        "            if  np.linalg.norm(np.array([pos[0],pos[1]]) - np.array([p[0],p[1]])) < r + p[2] :\n",
        "                return False # Reject\n",
        "        positions.append(pos)\n",
        "        return True # Adopt\n",
        "\n",
        "    # フィールド画像に num 個のコインをランダムに投入し、合計額を返す。\n",
        "    def set_to_random_position_of_field(self, field_img, num, overlap):\n",
        "        positions = []\n",
        "        field_height, field_width, channels = field_img.shape[:3]\n",
        "        total = 0\n",
        "        count = {}\n",
        "        for v in Jcoins.values_org:\n",
        "            count[v] = 0\n",
        "\n",
        "        for i in range(num):\n",
        "            val = Jcoins.values[randint(len(Jcoins.values))]\n",
        "            side = 'F' if 0==randint(2) else 'B' # コインの表・裏\n",
        "            coin = jcoins.index((val, side))\n",
        "            x, y, r = randint(field_width), randint(field_height), coin.radius\n",
        "            if (overlap) or self.check_overlap([x, y, r], positions, field_img):\n",
        "                coin.set_to_field(field_img, x, y, random_rotation=True)\n",
        "                total = total + coin.value\n",
        "                count[coin.value] = count[coin.value] + 1\n",
        "                \n",
        "        return total, count\n",
        "    \n",
        "    @classmethod\n",
        "    # h5 パス名\n",
        "    def h5path(cls, v):\n",
        "      return '%s/jcoin_model_%syen.h5' % (Jcoin.home_dir, v)\n",
        "\n",
        "print(Jcoins.h5path(10))\n"
      ],
      "execution_count": 7,
      "outputs": [
        {
          "output_type": "stream",
          "text": [
            "/content/drive/My Drive/Colab Work/jcoin_model_10yen.h5\n"
          ],
          "name": "stdout"
        }
      ]
    },
    {
      "metadata": {
        "colab_type": "code",
        "id": "NUpOp24mtdpe",
        "colab": {}
      },
      "cell_type": "code",
      "source": [
        "# データ生成（訓練用、評価用）\n",
        "\n",
        "samples = 1000\n",
        "field_width, field_height = 50, 50 # コインをばらまく床のサイズ。後で読み込み時にリサイズする。\n",
        "field_img = np.zeros((field_height, field_width, 3), np.uint8)\n",
        "\n",
        "jcoins = Jcoins()\n",
        "outdir = Jcoin.home_dir + \"/jcoin_data\"\n",
        "# 生成データを増やす場合の例。多すぎてメモリがパンクする場合、ディレクトリを分ける。\n",
        "#  outdir = Jcoin.home_dir + \"/jcoin_data2\" \n",
        "\n",
        "# ディレクトリの掃除\n",
        "files = os.listdir(outdir)\n",
        "for f in  files:\n",
        "  pth = outdir + '/' + f\n",
        "  os.remove(pth)\n",
        "\n",
        "# 生成\n",
        "for i in range(samples):\n",
        "    field_img[:] = [0, 0, 0] # G, B, R\n",
        "    total, count = jcoins.set_to_random_position_of_field(field_img, int(randint(20+20) + 1), overlap=False)\n",
        "    coins = 0\n",
        "    for v in Jcoins.values:\n",
        "        coins = coins + count[v]\n",
        "    file_name = \"#{:0=6}_{:0=4}yen_{:0=2}({:0=2}_{:0=2}_{:0=2}_{:0=2}_{:0=2}_{:0=2}).png\".format(i, total, coins,count[1], count[5], count[10], count[50], count[100], count[500])\n",
        "    cv2.imwrite(outdir + '/' + file_name, field_img)\n"
      ],
      "execution_count": 0,
      "outputs": []
    },
    {
      "metadata": {
        "id": "T8OKR-68Gd7R",
        "colab_type": "code",
        "colab": {}
      },
      "cell_type": "code",
      "source": [
        "import subprocess\n",
        "ret = subprocess.getoutput('ls -l sample_data')\n",
        "print(ret)"
      ],
      "execution_count": 0,
      "outputs": []
    },
    {
      "metadata": {
        "id": "PCTYZVxrbnjP",
        "colab_type": "code",
        "colab": {}
      },
      "cell_type": "code",
      "source": [
        "# データ読み込み\n",
        "samples = 1000 # 読み込みデータの数（生成した数以下であること）\n",
        "size = 50 # 読み込み後のピクセルサイズ。メモリの事情で調整。\n",
        "\n",
        "img_rows, img_cols = size, size\n",
        "depth = 3\n",
        "dim = img_rows * img_cols * depth\n",
        "\n",
        "dir = Jcoin.home_dir + \"/jcoin_data\"\n",
        "#dir = Jcoin.home_dir + \"/jcoin_data2\"\n",
        "\n",
        "def get_each_coins_num_from_file_name(fn):\n",
        "    coins_num=[]\n",
        "    for j, v in enumerate(Jcoins.values):\n",
        "      coins_num.append(int(f[(20 + j * 3):(20 + j * 3 + 1)]))\n",
        "    return coins_num\n",
        "\n",
        "files = os.listdir(dir)\n",
        "x_train, y_train = [], []\n",
        "x_test , y_test  = [], []\n",
        "\n",
        "for i, f in enumerate(files):\n",
        "    if i > samples - 1:\n",
        "      break\n",
        "    img = cv2.imread(dir + '/' + f, 1)\n",
        "    y = get_each_coins_num_from_file_name(f)    \n",
        "    value = int(f[8:12]) # 合計額\n",
        "    img = cv2.resize(img, (size, size))\n",
        "    height, width, channels = img.shape[:3]\n",
        "    print(f, height, width, channels, value)\n",
        "    x = img.reshape(img_rows, img_cols, 3).astype('float32') /255\n",
        "    if i < int(samples * 0.9):\n",
        "      x_train.append(x)\n",
        "      y_train.append(y)\n",
        "    else:\n",
        "      x_test.append(x)\n",
        "      y_test.append(y)\n",
        "      \n",
        "x_train, y_train = np.array(x_train), np.array(y_train)\n",
        "x_test , y_test  = np.array(x_test) , np.array(y_test)\n",
        "\n",
        "print(x_train.shape)"
      ],
      "execution_count": 0,
      "outputs": []
    },
    {
      "metadata": {
        "id": "oKixrzrnc5RQ",
        "colab_type": "code",
        "colab": {}
      },
      "cell_type": "code",
      "source": [
        "def init_model(indx):\n",
        "  # モデル構築\n",
        "  from keras.layers import Dense, Activation\n",
        "  model = keras.models.Sequential()\n",
        "  val = Jcoins.values[indx]\n",
        " \n",
        "  # neural network model parameters\n",
        "  hidden_units = 100 \n",
        "  layer_depth = 1\n",
        "  act =  'sigmoid' \n",
        "  bias = True\n",
        "\n",
        "  model.add(Conv2D(size,3,input_shape=(size,size,3)))\n",
        "  model.add(Activation('relu'))\n",
        "  model.add(Conv2D(size,3))\n",
        "  model.add(Activation('relu'))\n",
        "  model.add(MaxPool2D(pool_size=(2,2)))\n",
        "  model.add(Dropout(0.25))\n",
        "\n",
        "  model.add(Conv2D(size*2,3, padding='same'))\n",
        "  model.add(Activation('relu'))\n",
        "  model.add(Conv2D(size*2,3))\n",
        "  model.add(MaxPool2D(pool_size=(2,2)))\n",
        "\n",
        "  model.add(Flatten())\n",
        "  model.add(Dense(size*16))\n",
        "  model.add(Activation('relu'))\n",
        "  model.add(Dropout(0.5))\n",
        "\n",
        "  # first hidden layer\n",
        "  model.add(Dense(units = hidden_units, input_dim = dim, use_bias = bias))\n",
        "  model.add(Activation(act))\n",
        "\n",
        "  model.add(Dense(units = int(hidden_units / 2), use_bias = bias))\n",
        "  model.add(Activation(act))\n",
        "  model.add(Dense(units = int(hidden_units / 3), use_bias = bias))\n",
        "  model.add(Activation(act))\n",
        "  model.add(Dense(units = int(hidden_units / 4), use_bias = bias))\n",
        "  model.add(Activation(act))\n",
        "\n",
        "  # output layer\n",
        "  model.add(Dense(units = 1, use_bias = bias))\n",
        "  model.add(Activation('linear')) # 回帰モデルなので出力層の活性化関数で 'softmax' は使用しない。\n",
        "\n",
        "  sgd = SGD(lr=0.01, decay=1e-6, momentum=0.9, nesterov=True)\n",
        "  model.compile(loss = 'mean_squared_error', optimizer = sgd)\n",
        "\n",
        "  # モデルの保存\n",
        "  model.save(Jcoins.h5path(val))\n",
        "\n",
        "for idx, val in enumerate(Jcoins.values):\n",
        "  init_model(idx)\n"
      ],
      "execution_count": 0,
      "outputs": []
    },
    {
      "metadata": {
        "id": "jDvi9gmPeZTU",
        "colab_type": "code",
        "colab": {}
      },
      "cell_type": "code",
      "source": [
        "# 学習\n",
        "def fit_model(indx, x, y, ep, verbo):\n",
        "  val = Jcoins.values[indx]\n",
        "  model = keras.models.load_model(Jcoins.h5path(val), compile=False)\n",
        "  sgd = SGD(lr=0.01, decay=1e-6, momentum=0.9, nesterov=True)\n",
        "  model.compile(loss = 'mean_squared_error', optimizer = sgd)\n",
        "\n",
        "  start_fit = time.time()\n",
        "  model.fit(x, y.T[indx], epochs = ep, verbose = verbo)\n",
        "  elapsed = time.time() - start_fit\n",
        "  print(\"elapsed = {:.1f} sec\".format(elapsed))\n",
        "\n",
        "  model.save(Jcoins.h5path(val))\n",
        "  \n",
        "for idx, val in enumerate(Jcoins.values):\n",
        "  fit_model(idx, x_train, y_train, 500, 2)\n",
        "#init_model(2)\n",
        "#fit_model(2, x_train, y_train, 1000, 2)"
      ],
      "execution_count": 0,
      "outputs": []
    },
    {
      "metadata": {
        "id": "zYHtqhuoucCh",
        "colab_type": "code",
        "outputId": "451f5bfc-ff53-4bf7-950f-7a01e6c47247",
        "colab": {
          "base_uri": "https://localhost:8080/",
          "height": 1420
        }
      },
      "cell_type": "code",
      "source": [
        "# 予測～プロット\n",
        "import matplotlib.pyplot as plt\n",
        "\n",
        "def plot_number_of_coin(indx, x_t, y_t):\n",
        "  val = Jcoins.values[indx]\n",
        "  model = keras.models.load_model(Jcoins.h5path(val), compile=False)\n",
        "  y_predict = model.predict(x_t)\n",
        "  y_t1 = y_t.T[indx]\n",
        "  y_p1 = list(map(lambda y: y[0], y_predict))\n",
        "  \n",
        "  plt.scatter(y_t1, y_p1, c=Jcoins.colors[indx] , marker=\"o\", s=300-(5-indx)*50, label='%s yen coins' % val)\n",
        "  plt.legend(loc='lower right')\n",
        "  plt.xlabel(\"True number of coins\")\n",
        "  plt.ylabel(\"Predicted number of coins\")\n",
        "  plt.xticks(np.arange(0, 8, 1))\n",
        "  plt.yticks(np.arange(0, 8, 1))\n",
        "  plt.show()\n",
        "  \n",
        "  return y_p1\n",
        "\n",
        "yt_total = np.zeros(len(y_test))\n",
        "yp_total = np.zeros(len(y_test))\n",
        "y_test_T = y_test.T\n",
        "\n",
        "for idx, val in enumerate(Jcoins.values):\n",
        "  y_pred = plot_number_of_coin(idx, x_test, y_test)\n",
        "  yt_total = yt_total + y_test_T[idx] * val\n",
        "  yp_total = yp_total + np.array(y_pred) * val\n",
        "  \n",
        "plt.scatter(yt_total, yp_total, c='black', marker=\"o\", s=20)\n",
        "plt.title('Total values')\n",
        "plt.xlabel(\"True total value\")\n",
        "plt.ylabel(\"Predicted total value\")\n",
        "plt.xticks( np.arange(0, 70, 10) )\n",
        "plt.yticks( np.arange(0, 70, 10) )\n",
        "\n",
        "plt.show()\n",
        "\n"
      ],
      "execution_count": 20,
      "outputs": [
        {
          "output_type": "display_data",
          "data": {
            "image/png": "[encoded data removed]",
            "text/plain": [
              "<matplotlib.figure.Figure at 0x7f8d15327048>"
            ]
          },
          "metadata": {
            "tags": []
          }
        },
        {
          "output_type": "display_data",
          "data": {
            "image/png": "[encoded data removed]",
            "text/plain": [
              "<matplotlib.figure.Figure at 0x7f8d150a82b0>"
            ]
          },
          "metadata": {
            "tags": []
          }
        },
        {
          "output_type": "display_data",
          "data": {
            "image/png": "[encoded data removed]",
            "text/plain": [
              "<matplotlib.figure.Figure at 0x7f8d16b80b38>"
            ]
          },
          "metadata": {
            "tags": []
          }
        },
        {
          "output_type": "display_data",
          "data": {
            "image/png": "[encoded data removed]",
            "text/plain": [
              "<matplotlib.figure.Figure at 0x7f8d14dd60b8>"
            ]
          },
          "metadata": {
            "tags": []
          }
        }
      ]
    },
    {
      "metadata": {
        "id": "W1dntV9Oegbx",
        "colab_type": "code",
        "colab": {}
      },
      "cell_type": "code",
      "source": [
        "# モデルを可視化する場合。3つあるけどどれも同じなので、最初のをpngファイルに可視化。\n",
        "from keras.utils.vis_utils import plot_model\n",
        "model = keras.models.load_model(Jcoins.h5path(0), compile=False)\n",
        "plot_model(model, to_file = Jcoin.home_dir + '/model.png', show_shapes=True)\n"
      ],
      "execution_count": 0,
      "outputs": []
    },
    {
      "metadata": {
        "id": "olXpewyF4ugT",
        "colab_type": "code",
        "colab": {}
      },
      "cell_type": "code",
      "source": [
        "# 推定データ表示\n",
        "for yt, yp in list(zip(yt_total, yp_total)):\n",
        "  print(\"{0:5.0f}, {1:5.2f}, {2:6.2f}, {3:6.2f} %\".format(yt,round(yp, 2), round(yp-yt, 2), round((yp-yt)*100/yt, 2)) )"
      ],
      "execution_count": 0,
      "outputs": []
    }
  ]
}